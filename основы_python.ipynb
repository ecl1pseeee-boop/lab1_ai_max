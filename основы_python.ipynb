{
 "cells": [
  {
   "cell_type": "markdown",
   "metadata": {
    "id": "M-DGa20PaHnu"
   },
   "source": [
    "#Задача 1\n",
    "Написать функцию на вход которой подается строка, состоящая из латинских букв.\n",
    "Функция должна вернуть количество гласных букв (a, e, i, o, u) в этой строке. Написать тесты для кода"
   ]
  },
  {
   "cell_type": "code",
   "execution_count": 1,
   "metadata": {
    "id": "XvX8X_JJ6PCb"
   },
   "outputs": [
    {
     "name": "stdout",
     "output_type": "stream",
     "text": [
      "Все тесты пройдены успешно!\n"
     ]
    }
   ],
   "source": [
    "def count_vowels(input_string):\n",
    "    vowels = {'a', 'e', 'i', 'o', 'u'}\n",
    "    return sum(1 for char in input_string if char.lower() in vowels)\n",
    "\n",
    "def test_count_vowels():\n",
    "    assert count_vowels(\"Hello World\") == 3, \"Тест 1 не пройден\"\n",
    "    assert count_vowels(\"aeiou\") == 5, \"Тест 2 не пройден\"\n",
    "    assert count_vowels(\"AEIOU\") == 5, \"Тест 2.1 не пройден\"\n",
    "    assert count_vowels(\"bcdfg\") == 0, \"Тест 3 не пройден\"\n",
    "    assert count_vowels(\"12345!@#$%\") == 0, \"Тест 3.1 не пройден\"\n",
    "    assert count_vowels(\"\") == 0, \"Тест 4 не пройден\"\n",
    "    assert count_vowels(\"a e, i! o? u;\") == 5, \"Тест 5 не пройден\"\n",
    "    assert count_vowels(\"AeIoU\") == 5, \"Тест 6 не пройден\"\n",
    "    print(\"Все тесты пройдены успешно!\")\n",
    "\n",
    "if __name__ == \"__main__\":\n",
    "    test_count_vowels()"
   ]
  },
  {
   "cell_type": "markdown",
   "metadata": {
    "id": "t2ClV_Y0bbr6"
   },
   "source": [
    "# Задача 2\n",
    "Написать функцию на вход, которой подается строка. Функция должна вернуть true, если\n",
    "каждый символ в строке встречается только 1 раз, иначе должна вернуть false. Написать тесты для кода"
   ]
  },
  {
   "cell_type": "code",
   "execution_count": 2,
   "metadata": {
    "id": "FppbECao6VIz"
   },
   "outputs": [
    {
     "name": "stdout",
     "output_type": "stream",
     "text": [
      "Все тесты пройдены успешно!\n"
     ]
    }
   ],
   "source": [
    "def has_unique_chars(input_string):\n",
    "    return len(input_string.replace(' ', '')) == len(set(input_string.replace(' ', '')))\n",
    "\n",
    "def test_has_unique_chars():\n",
    "    assert has_unique_chars(\"abcde\") == True, \"Тест 1 не пройден\"\n",
    "    assert has_unique_chars(\"hello\") == False, \"Тест 2 не пройден\"\n",
    "    assert has_unique_chars(\"aabbcc\") == False, \"Тест 2.1 не пройден\"\n",
    "    assert has_unique_chars(\"\") == True, \"Тест 3 не пройден\"\n",
    "    assert has_unique_chars(\"a\") == True, \"Тест 4 не пройден\"\n",
    "    assert has_unique_chars(\"aa\") == False, \"Тест 5 не пройден\"\n",
    "    assert has_unique_chars(\"a b c\") == True, \"Тест 6 не пройден\"\n",
    "    assert has_unique_chars(\"a a\") == False, \"Тест 6.1 не пройден\"\n",
    "    assert has_unique_chars(\"123!@#\") == True, \"Тест 7 не пройден\"\n",
    "    assert has_unique_chars(\"11!!\") == False, \"Тест 7.1 не пройден\"\n",
    "    assert has_unique_chars(\"Aa\") == True, \"Тест 8 не пройден\"\n",
    "    assert has_unique_chars(\"AA\") == False, \"Тест 8.1 не пройден\"\n",
    "    assert has_unique_chars(\"abcdefghijklmnopqrstuvwxyz\") == True, \"Тест 9 не пройден\"\n",
    "    assert has_unique_chars(\"abcdefghijklmnopqrstuvwxyza\") == False, \"Тест 10 не пройден\"\n",
    "    print(\"Все тесты пройдены успешно!\")\n",
    "\n",
    "\n",
    "if __name__ == \"__main__\":\n",
    "    test_has_unique_chars()"
   ]
  },
  {
   "cell_type": "markdown",
   "metadata": {
    "id": "udRiIK1cdt6E"
   },
   "source": [
    "# Задача 3\n",
    "Написать функцию, которая принимает положительное число и возвращает количество\n",
    "бит равных 1 в этом числе. Написать тесты для кода"
   ]
  },
  {
   "cell_type": "code",
   "execution_count": 18,
   "metadata": {
    "id": "6tkfDJRz6dp_"
   },
   "outputs": [
    {
     "name": "stdout",
     "output_type": "stream",
     "text": [
      "Все тесты пройдены успешно!\n"
     ]
    }
   ],
   "source": [
    "def count_bits(number):\n",
    "    if number < 0:\n",
    "        raise ValueError(\"Число должно быть положительным\")\n",
    "    return bin(number).count('1')\n",
    "\n",
    "def test_count_bits():\n",
    "    assert count_bits(0) == 0, \"Тест 1 не пройден\"\n",
    "    assert count_bits(1) == 1, \"Тест 2 не пройден\"\n",
    "    assert count_bits(2) == 1, \"Тест 3 не пройден\"\n",
    "    assert count_bits(3) == 2, \"Тест 4 не пройден\"\n",
    "    assert count_bits(5) == 2, \"Тест 5 не пройден\"\n",
    "    assert count_bits(7) == 3, \"Тест 6 не пройден\"\n",
    "    assert count_bits(8) == 1, \"Тест 7 не пройден\"\n",
    "    assert count_bits(15) == 4, \"Тест 8 не пройден\"\n",
    "    assert count_bits(255) == 8, \"Тест 9 не пройден\"\n",
    "    assert count_bits(1024) == 1, \"Тест 10 не пройден\"\n",
    "    assert count_bits(123456789) == 16, \"Тест 11 не пройден\"\n",
    "    print(\"Все тесты пройдены успешно!\")\n",
    "\n",
    "if __name__ == \"__main__\":\n",
    "    test_count_bits()"
   ]
  },
  {
   "cell_type": "markdown",
   "metadata": {
    "id": "26dDUz-Ae17N"
   },
   "source": [
    "# Задача 4\n",
    "Написать функцию, которая принимает положительное число. Функция должна вернуть то,\n",
    "сколько раз необходимо перемножать цифры числа или результат перемножения, чтобы\n",
    "получилось число состоящее из одной цифры.\n",
    "Например, для входного числа:\n",
    "· 39 функция должна вернуть 3, так как 3*9=27 => 2*7=14 => 1*4=4\n",
    "· 4 функция должна вернуть 0, так как число уже состоит из одной цифры\n",
    "· 999 функция должна вернуть 4, так как 9*9*9=729 => 7*2*9=126 => 1*2*6=12 =>\n",
    "1*2=2. Написать тесты для кода"
   ]
  },
  {
   "cell_type": "code",
   "execution_count": 25,
   "metadata": {
    "id": "BH1A_Mgi6i4G"
   },
   "outputs": [
    {
     "name": "stdout",
     "output_type": "stream",
     "text": [
      "Все тесты пройдены успешно!\n"
     ]
    }
   ],
   "source": [
    "def magic(n):\n",
    "    if n < 0:\n",
    "        raise ValueError(\"Число должно быть положительным\")\n",
    "    count = 0\n",
    "    while n >= 10:\n",
    "        count += 1\n",
    "        multiplication = 1\n",
    "        temp = n\n",
    "        while temp > 0:\n",
    "            digit = temp % 10\n",
    "            multiplication *= digit\n",
    "            temp = temp // 10\n",
    "        n = multiplication\n",
    "    return count\n",
    "\n",
    "def test_magic():\n",
    "    assert magic(4) == 0, \"Тест 1 не пройден\"\n",
    "    assert magic(9) == 0, \"Тест 1.1 не пройден\"\n",
    "    assert magic(0) == 0, \"Тест 1.2 не пройден\" \n",
    "    assert magic(39) == 3, \"Тест 2 не пройден\"  # 3*9=27 => 2*7=14 => 1*4=4\n",
    "    assert magic(999) == 4, \"Тест 3 не пройден\"  # 9*9*9=729 => 7*2*9=126 => 1*2*6=12 => 1*2=2\n",
    "    assert magic(10) == 1, \"Тест 4 не пройден\"  # 1*0=0\n",
    "    assert magic(25) == 2, \"Тест 5 не пройден\"  # 2*5=10 => 1*0=0\n",
    "    assert magic(77) == 4, \"Тест 6 не пройден\"  # 7*7=49 => 4*9=36 => 3*6=18 => 1*8=8\n",
    "    assert magic(102) == 1, \"Тест 7 не пройден\"  # 1*0*2=0\n",
    "    assert magic(1234) == 2, \"Тест 8 не пройден\"  # 1*2*3*4=24 => 2*4=8\n",
    "    assert magic(9999) == 3, \"Тест 9 не пройден\"  # 9*9*9*9=6561 => 6*5*6*1=180 => 1*8*0=0\n",
    "    assert magic(1) == 0, \"Тест 10 не пройден\"\n",
    "    assert magic(11) == 1, \"Тест 11 не пройден\"  # 1*1=1\n",
    "    print(\"Все тесты пройдены успешно!\")\n",
    "\n",
    "if __name__ == \"__main__\":\n",
    "    test_magic()"
   ]
  },
  {
   "cell_type": "markdown",
   "metadata": {
    "id": "0nS-kIa8g8vd"
   },
   "source": [
    "# Задача 5\n",
    "Написать функцию, которая принимает два целочисленных вектора одинаковой длины и\n",
    "возвращает среднеквадратическое отклонение двух векторов. Написать тесты для кода"
   ]
  },
  {
   "cell_type": "code",
   "execution_count": null,
   "metadata": {
    "id": "8iphx4LM6xbx"
   },
   "outputs": [],
   "source": [
    "import math\n",
    "\n",
    "def mse(pred, true):\n",
    "    if len(pred) != len(true):\n",
    "        raise ValueError('Вектора должны быть одинаковой длины')\n",
    "    if len(pred) == 0:\n",
    "        raise ValueError('Вектора не могут быть пустыми')\n",
    "    diff_square = [(x-y)**2 for x,y in zip(pred, true)]\n",
    "    sum_squares = sum(diff_square)\n",
    "    return math.sqrt(sum_squares / len(pred))\n",
    "        "
   ]
  },
  {
   "cell_type": "markdown",
   "metadata": {
    "id": "vpIPKL439zkw"
   },
   "source": [
    "# Задача 6\n",
    "Написать функцию, принимающая целое положительное число. Функция должна вернуть\n",
    "строку вида “(n1**p1)(n2**p2)…(nk**pk)” представляющая разложение числа на простые\n",
    "множители (если pi == 1, то выводить только ni).\n",
    "Например, для числа 86240 функция должна вернуть “(2**5)(5)(7**2)(11)”. Написать тесты для кода"
   ]
  },
  {
   "cell_type": "code",
   "execution_count": 29,
   "metadata": {
    "id": "pFebmcZk94Jw"
   },
   "outputs": [],
   "source": [
    "import math\n",
    "\n",
    "def is_prime(number):\n",
    "    if number < 2:\n",
    "        raise ValueError('Число должно быть больше или равно 2')\n",
    "    if not isinstance(number, int):\n",
    "        raise ValueError('Число должно быть целым')\n",
    "    for i in range(2, int(math.sqrt(number)) + 1):\n",
    "        if number % i == 0:\n",
    "            return False\n",
    "    return True\n",
    "\n",
    "def get_next_prime_number(number):\n",
    "    if not isinstance(number, int):\n",
    "        raise ValueError('Число должно быть целым')\n",
    "    if number < 2:\n",
    "        return 2\n",
    "    temp = number + 1\n",
    "    while not is_prime(temp):\n",
    "        temp += 1\n",
    "    return temp\n",
    "        \n",
    "def factorize(number):\n",
    "    if number <= 0:\n",
    "        raise ValueError('Число должно быть положительным')\n",
    "    if not isinstance(number, int):\n",
    "        raise ValueError('Число должно быть целым')\n",
    "    if number == 1:\n",
    "        return 1\n",
    "        \n",
    "    factorized = {}\n",
    "    n = number\n",
    "    current_prime = 2\n",
    "\n",
    "    while n > 1:\n",
    "        count = 0\n",
    "        while number % current_prime == 0:\n",
    "            count += 1\n",
    "            n //= current_prime\n",
    "        if count > 0:\n",
    "            factorized[current_prime] == count\n",
    "        if n > 1:\n",
    "            current_prime = get_next_prime_number(current_prime)\n",
    "\n",
    "    return factorized\n",
    "\n",
    "def factorized_output(factorized):\n",
    "    results = []\n",
    "    for prime_number, count in factorized.items():\n",
    "        if count == 1:\n",
    "            results.append(f'({prime_number})')\n",
    "        else:\n",
    "            results.append(f'({prime_number}**{count})')\n",
    "    return ''.join(results)\n",
    "\n",
    "def factorize_number(number):\n",
    "    factors = factorize(number)\n",
    "    return factorized_output(factors)"
   ]
  },
  {
   "cell_type": "markdown",
   "metadata": {
    "id": "ps2s0BudX7A2"
   },
   "source": [
    "# Задача 7\n",
    "Написать функцию, принимающая целое число n, задающее количество кубиков. Функция\n",
    "должна определить, можно ли из данного кол-ва кубиков построить пирамиду, то есть\n",
    "можно ли представить число n как 1^2+2^2+3^2+…+k^2. Если можно, то функция должна\n",
    "вернуть k, иначе строку “It is impossible”. Написать тесты для кода"
   ]
  },
  {
   "cell_type": "code",
   "execution_count": null,
   "metadata": {
    "id": "3YPjEXxhX_YT"
   },
   "outputs": [],
   "source": [
    "def pyramid(number):\n",
    "    if not isinstance(number, int):\n",
    "        raise ValueError('Число должно быть целым')\n",
    "    if number <= 0:\n",
    "        raise ValueError('Число должно быть положительным')\n",
    "    \n",
    "    total = 0\n",
    "    count = 0\n",
    "    \n",
    "    while n > 0:\n",
    "        count += 1\n",
    "        total += count**2\n",
    "        if total == number:\n",
    "            return couny\n",
    "    return 'It is impossible'\n",
    "\n",
    "def test_pyramid():\n",
    "    assert pyramid(1) == 1\n",
    "    assert pyramid(5) == 2  # 1² + 2² = 1 + 4 = 5\n",
    "    assert pyramid(14) == 3  # 1² + 2² + 3² = 1 + 4 + 9 = 14\n",
    "    assert pyramid(30) == 4  # 1² + 2² + 3² + 4² = 1 + 4 + 9 + 16 = 30\n",
    "\n",
    "    assert pyramid(2) == 'It is impossible'\n",
    "    assert pyramid(3) == 'It is impossible'\n",
    "    assert pyramid(15) == 'It is impossible'\n",
    "    assert pyramid(29) == 'It is impossible'\n",
    "    \n",
    "    assert pyramid(55) == 5  # 1+4+9+16+25 = 55\n",
    "    assert pyramid(91) == 6  # 1+4+9+16+25+36 = 91\n",
    "\n",
    "    try:\n",
    "        pyramid(0)\n",
    "        assert False, \"0 не может быть\"\n",
    "    except ValueError:\n",
    "        pass\n",
    "        \n",
    "    try:\n",
    "        pyramid(-5)\n",
    "        assert False, \"Отрицательное число не может быть\"\n",
    "    except ValueError:\n",
    "        pass\n",
    "        \n",
    "    try:\n",
    "        pyramid(3.5)\n",
    "        assert False, \"Требуется целое число\"\n",
    "    except ValueError:\n",
    "        pass\n",
    "    print(\"Все тесты пройдены успешно!\")\n",
    "\n",
    "if __name__ == \"__main__\":\n",
    "    test_pyramid()"
   ]
  },
  {
   "cell_type": "markdown",
   "metadata": {
    "id": "KeKgmIdAQMEJ"
   },
   "source": [
    "# Задача 8\n",
    "Функция принимает на вход положительное число и определяет является ли оно сбалансированным, т.е. сумма цифр до средних равна сумме цифр после. Средними в случае нечетного числа цифр считать одну цифру, в случае четного - две средних. Написать тесты для кода"
   ]
  },
  {
   "cell_type": "code",
   "execution_count": 78,
   "metadata": {
    "id": "gMAAqtqlQrZt"
   },
   "outputs": [
    {
     "name": "stdout",
     "output_type": "stream",
     "text": [
      "All tests passed!\n"
     ]
    }
   ],
   "source": [
    "import math \n",
    "def is_balance(number):\n",
    "    if number <= 0:\n",
    "        raise ValueError('Число должно быть положительным')\n",
    "        \n",
    "    str_number = str(number)\n",
    "    length = len(str_number)\n",
    "    \n",
    "    if length <= 2:\n",
    "        return False\n",
    "        \n",
    "    if length % 2 != 0:\n",
    "        middle = int(math.ceil(length / 2))\n",
    "        first_half = str_number[:middle - 1]\n",
    "        second_half = str_number[middle:]\n",
    "    else:\n",
    "        middle = int(length / 2)\n",
    "        first_half = str_number[:middle - 1]\n",
    "        second_half = str_number[middle + 1:]\n",
    "    return sum(int(digit) for digit in first_half) == sum(int(digit) for digit in second_half)\n",
    "\n",
    "    \n",
    "def test_is_balance():\n",
    "    # Тесты для нечетного количества цифр (пропускаем одну среднюю)\n",
    "    assert is_balance(121) == True    # 1 == 1 (пропускаем 2)\n",
    "    assert is_balance(12321) == True  # 1+2 == 2+1 (пропускаем 3)\n",
    "    assert is_balance(12345) == False # 1+2 != 4+5 (пропускаем 3)\n",
    "    \n",
    "    # Тесты для четного количества цифр (пропускаем две средние)\n",
    "    assert is_balance(1221) == True   # 1 == 1 (пропускаем 2,2)\n",
    "    assert is_balance(123321) == True # 1+2 == 3+2+1? Wait, let's check: 1+2 != 2+1\n",
    "    # Actually for 123321: first_half = \"12\", second_half = \"21\" → 1+2 == 2+1 ✓\n",
    "    \n",
    "    assert is_balance(123456) == False # 1+2 != 5+6 (пропускаем 3,4)\n",
    "    \n",
    "    # Граничные случаи\n",
    "    assert is_balance(1001) == True   # 1 == 1 (пропускаем 0,0)\n",
    "    assert is_balance(1111) == True   # 1 == 1 (пропускаем 1,1)\n",
    "    \n",
    "    # Числа, которые не могут быть сбалансированы по определению\n",
    "    assert is_balance(1) == False\n",
    "    assert is_balance(12) == False\n",
    "    assert is_balance(123) == False   # Только 3 цифры - средняя одна, но нет цифр по бокам\n",
    "    print(\"All tests passed!\")\n",
    "\n",
    "\n",
    "if __name__ == \"__main__\":\n",
    "       test_is_balance()"
   ]
  },
  {
   "cell_type": "code",
   "execution_count": null,
   "metadata": {},
   "outputs": [],
   "source": []
  },
  {
   "cell_type": "code",
   "execution_count": null,
   "metadata": {},
   "outputs": [],
   "source": []
  }
 ],
 "metadata": {
  "colab": {
   "provenance": []
  },
  "kernelspec": {
   "display_name": "Python 3 (ipykernel)",
   "language": "python",
   "name": "python3"
  },
  "language_info": {
   "codemirror_mode": {
    "name": "ipython",
    "version": 3
   },
   "file_extension": ".py",
   "mimetype": "text/x-python",
   "name": "python",
   "nbconvert_exporter": "python",
   "pygments_lexer": "ipython3",
   "version": "3.12.6"
  }
 },
 "nbformat": 4,
 "nbformat_minor": 4
}
