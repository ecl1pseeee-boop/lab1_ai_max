{
 "cells": [
  {
   "cell_type": "markdown",
   "metadata": {
    "id": "vC84e9kzyxPy"
   },
   "source": [
    "<h1>Импорт библиотек"
   ]
  },
  {
   "cell_type": "code",
   "execution_count": 3,
   "metadata": {
    "id": "cgKeNegmQG5S"
   },
   "outputs": [],
   "source": [
    "import numpy as np\n",
    "import matplotlib.pyplot as plt"
   ]
  },
  {
   "cell_type": "markdown",
   "metadata": {
    "id": "qFM9uVU2x4Ls"
   },
   "source": [
    "<h1>Задача 1. Дан набор из $p$ матриц размерностью $(n, n)$ и $p$ векторов размерностью $(n, 1)$, найти сумму произведений матриц на векторы. Написать тесты для кода"
   ]
  },
  {
   "cell_type": "code",
   "execution_count": 14,
   "metadata": {
    "id": "IAbUvEiYyWFF"
   },
   "outputs": [],
   "source": [
    "def sum_prod(X, V):\n",
    "    if len(X) != len(V):\n",
    "        raise ValueError(\"Количество матриц и векторов должно быть одинаковым\")\n",
    "    if not X:\n",
    "        return np.array([])\n",
    "    n = X[0].shape[0]\n",
    "    products = []\n",
    "    \n",
    "    for i, (matrix, vector) in enumerate(zip(X, V)):\n",
    "        if matrix.shape != (n, n):\n",
    "            raise ValueError(f\"Несовместимые размерности матрицы {i}\")\n",
    "        \n",
    "        v = np.array(vector).flatten()\n",
    "        if len(v) != n:\n",
    "            raise ValueError(f\"Несовместимые размерности вектора {i}\")\n",
    "        \n",
    "        products.append(np.dot(matrix, v))\n",
    "    \n",
    "    return np.sum(products, axis=0)\n",
    "\n",
    "def test_sum_prod():\n",
    "    X = [np.array([[1, 2], [3, 4]]), np.array([[5, 6], [7, 8]])]\n",
    "    V = [np.array([1, 2]), np.array([3, 4])]\n",
    "    result = sum_prod(X, V)\n",
    "    expected = np.array([44, 64])  # (1*1+2*2 + 5*3+6*4, 3*1+4*2 + 7*3+8*4)\n",
    "    assert np.array_equal(result, expected), f\"Ожидалось {expected}, получено {result}\"\n",
    "\n",
    "if __name__ == \"__main__\":\n",
    "    test_sum_prod()"
   ]
  },
  {
   "cell_type": "markdown",
   "metadata": {
    "id": "TKwPG4fIy2w4"
   },
   "source": [
    "<h1>Задача 2. Дана матрица M, напишите функцию, которая бинаризует матрицу по некоторому threshold (то есть, все значения большие threshold становятся равными 1, иначе 0). Напишите тесты для кода"
   ]
  },
  {
   "cell_type": "code",
   "execution_count": 15,
   "metadata": {
    "id": "KQDNMgsjRNH7"
   },
   "outputs": [],
   "source": [
    "import numpy as np\n",
    "\n",
    "def binarize(W, threshold=0.5):\n",
    "    if not isinstance(threshold, (int, float)):\n",
    "        raise ValueError(\"Порог должен быть числом\")\n",
    "    return (W > threshold).astype(int)\n",
    "\n",
    "def test_binarize():\n",
    "    W = np.array([[0.1, 0.6, 0.3],\n",
    "                  [0.8, 0.4, 0.9]])\n",
    "    result = binarize(W, 0.5)\n",
    "    expected = np.array([[0, 1, 0],\n",
    "                         [1, 0, 1]])\n",
    "    assert np.array_equal(result, expected), f\"Ожидалось:\\n{expected}\\nПолучено:\\n{result}\"\n",
    "\n",
    "if __name__ == \"__main__\":\n",
    "    test_binarize()"
   ]
  },
  {
   "cell_type": "markdown",
   "metadata": {
    "id": "IY5L-h-7zWhN"
   },
   "source": [
    "<h1>Задача 3. Напишите функцию, которая возвращает уникальные элементы из каждой строки матрицы. Напишите такую же функцию, но для столбцов. Напишите тесты для кода"
   ]
  },
  {
   "cell_type": "code",
   "execution_count": 16,
   "metadata": {
    "id": "-8dEZhR0SBC-"
   },
   "outputs": [],
   "source": [
    "import numpy as np\n",
    "\n",
    "def unique_rows(mat):\n",
    "    if not isinstance(mat, np.ndarray):\n",
    "        raise ValueError(\"Входные данные должны быть numpy array\")\n",
    "    \n",
    "    if len(mat.shape) != 2:\n",
    "        raise ValueError(\"Матрица должна быть двумерной\")\n",
    "    \n",
    "    result = []\n",
    "    for i in range(mat.shape[0]):\n",
    "        unique_elements = np.unique(mat[i, :])\n",
    "        result.append(unique_elements)\n",
    "    return result\n",
    "\n",
    "def unique_columns(mat):\n",
    "    if not isinstance(mat, np.ndarray):\n",
    "        raise ValueError(\"Входные данные должны быть numpy array\")\n",
    "    \n",
    "    if len(mat.shape) != 2:\n",
    "        raise ValueError(\"Матрица должна быть двумерной\")\n",
    "    \n",
    "    result = []\n",
    "    for j in range(mat.shape[1]):\n",
    "        unique_elements = np.unique(mat[:, j])\n",
    "        result.append(unique_elements)\n",
    "    return result\n",
    "\n",
    "def test_unique_rows_columns():\n",
    "    mat = np.array([[1, 2, 1],\n",
    "                    [3, 3, 3],\n",
    "                    [1, 2, 3]])\n",
    "    \n",
    "    row_result = unique_rows(mat)\n",
    "    row_expected = [np.array([1, 2]), np.array([3]), np.array([1, 2, 3])]\n",
    "    for i, (res, exp) in enumerate(zip(row_result, row_expected)):\n",
    "        assert np.array_equal(res, exp), f\"Строка {i}: ожидалось {exp}, получено {res}\"\n",
    "    \n",
    "    col_result = unique_columns(mat)\n",
    "    col_expected = [np.array([1, 3]), np.array([2, 3]), np.array([1, 3])]\n",
    "    for j, (res, exp) in enumerate(zip(col_result, col_expected)):\n",
    "        assert np.array_equal(res, exp), f\"Столбец {j}: ожидалось {exp}, получено {res}\"\n",
    "\n",
    "if __name__ == \"__main__\":\n",
    "    test_unique_rows_columns()"
   ]
  },
  {
   "cell_type": "markdown",
   "metadata": {
    "id": "roYAlo4Jz-lH"
   },
   "source": [
    "<h1>Задача 4. Напишите функцию, которая заполняет матрицу с размерами $(m, n)$ случайными числами, распределенными по нормальному закону. Затем считает мат. ожидание и дисперсию для каждого из столбцов и строк, а также строит для каждой строки и столбца гистограмму значений (использовать функцию hist из модуля matplotlib.plot)"
   ]
  },
  {
   "cell_type": "code",
   "execution_count": 17,
   "metadata": {
    "id": "nZK_71hMSQzv"
   },
   "outputs": [
    {
     "data": {
      "image/png": "[encoded data removed]",
      "text/plain": [
       "<Figure size 1200x800 with 4 Axes>"
      ]
     },
     "metadata": {},
     "output_type": "display_data"
    },
    {
     "data": {
      "image/png": "[encoded data removed]",
      "text/plain": [
       "<Figure size 1200x800 with 4 Axes>"
      ]
     },
     "metadata": {},
     "output_type": "display_data"
    }
   ],
   "source": [
    "import numpy as np\n",
    "import matplotlib.pyplot as plt\n",
    "\n",
    "def analyze_matrix(m, n, mu=0, sigma=1):\n",
    "    matrix = np.random.normal(mu, sigma, (m, n))\n",
    "\n",
    "    row_means = np.mean(matrix, axis=1)\n",
    "    row_vars = np.var(matrix, axis=1)\n",
    "    \n",
    "    col_means = np.mean(matrix, axis=0)\n",
    "    col_vars = np.var(matrix, axis=0)\n",
    "    \n",
    "    _plot_histograms(matrix, m, n)\n",
    "    \n",
    "    return matrix, row_means, row_vars, col_means, col_vars\n",
    "\n",
    "def _plot_histograms(matrix, m, n):\n",
    "    fig, axes = plt.subplots(2, 2, figsize=(12, 8))\n",
    "    axes = axes.flatten()\n",
    "    \n",
    "    for i in range(min(m, 4)):\n",
    "        axes[i].hist(matrix[i, :], bins=15, alpha=0.7, edgecolor='black', density=True)\n",
    "        axes[i].set_title(f'Гистограмма строки {i}')\n",
    "        axes[i].set_xlabel('Значение')\n",
    "        axes[i].set_ylabel('Плотность')\n",
    "    \n",
    "    for i in range(min(m, 4), 4):\n",
    "        axes[i].set_visible(False)\n",
    "    \n",
    "    plt.suptitle('Гистограммы строк')\n",
    "    plt.tight_layout()\n",
    "    plt.show()\n",
    "    \n",
    "    fig, axes = plt.subplots(2, 2, figsize=(12, 8))\n",
    "    axes = axes.flatten()\n",
    "    \n",
    "    for j in range(min(n, 4)):\n",
    "        axes[j].hist(matrix[:, j], bins=15, alpha=0.7, edgecolor='black', \n",
    "                    color='orange', density=True)\n",
    "        axes[j].set_title(f'Гистограмма столбца {j}')\n",
    "        axes[j].set_xlabel('Значение')\n",
    "        axes[j].set_ylabel('Плотность')\n",
    "    \n",
    "    for j in range(min(n, 4), 4):\n",
    "        axes[j].set_visible(False)\n",
    "    \n",
    "    plt.suptitle('Гистограммы столбцов')\n",
    "    plt.tight_layout()\n",
    "    plt.show()\n",
    "\n",
    "def test_analyze_matrix():\n",
    "    np.random.seed(42)\n",
    "    m, n = 3, 2\n",
    "    matrix, row_means, row_vars, col_means, col_vars = analyze_matrix(m, n)\n",
    "    \n",
    "    assert matrix.shape == (m, n), f\"Неверная форма матрицы: {matrix.shape}\"\n",
    "    assert row_means.shape == (m,), f\"Неверная форма row_means: {row_means.shape}\"\n",
    "    assert col_means.shape == (n,), f\"Неверная форма col_means: {col_means.shape}\"\n",
    "    \n",
    "    for i in range(m):\n",
    "        expected_mean = np.mean(matrix[i, :])\n",
    "        assert abs(row_means[i] - expected_mean) < 1e-10, f\"Неверное среднее для строки {i}\"\n",
    "\n",
    "if __name__ == \"__main__\":\n",
    "    test_analyze_matrix()\n"
   ]
  },
  {
   "cell_type": "markdown",
   "metadata": {
    "id": "BDyATNdM0dJ2"
   },
   "source": [
    "<h1>Задача 5. Напишите функцию, которая заполняет матрицу $(m, n)$ в шахматном порядке заданными числами $a$ и $b$. Напишите тесты для кода"
   ]
  },
  {
   "cell_type": "code",
   "execution_count": 18,
   "metadata": {
    "id": "RWNJYWQGecS6"
   },
   "outputs": [],
   "source": [
    "import numpy as np\n",
    "\n",
    "def chess(m, n, a, b):\n",
    "    i_indices, j_indices = np.ogrid[:m, :n]\n",
    "    chess_mask = (i_indices + j_indices) % 2 == 0\n",
    "    matrix = np.full((m, n), b, dtype=type(a) if a != b else int)\n",
    "    matrix[chess_mask] = a\n",
    "    return matrix\n",
    "\n",
    "def test_chess():\n",
    "    result = chess(2, 2, 0, 1)\n",
    "    expected = np.array([[0, 1],\n",
    "                         [1, 0]])\n",
    "    assert np.array_equal(result, expected), f\"Ожидалось:\\n{expected}\\nПолучено:\\n{result}\"\n",
    "\n",
    "if __name__ == \"__main__\":\n",
    "    test_chess()"
   ]
  },
  {
   "cell_type": "markdown",
   "metadata": {
    "id": "-ymXLtTN0vB6"
   },
   "source": [
    "<h1>Задача 6. Напишите функцию, которая отрисовывает прямоугольник с заданными размерами (a, b) на изображении размера (m, n), цвет фона задайте в схеме RGB, как и цвет прямоугольника. Цвета также должны быть параметрами функции. Напишите аналогичную функцию но для овала с полуосями a и b. Напишите тесты для кода.\n",
    "Примечание: уравнение эллипса (границы овала) можно записать как:\n",
    "<h1>$\\frac{(x-x_0)^2}{a^2}+\\frac{(y-y_0)^2}{b^2}=1$"
   ]
  },
  {
   "cell_type": "code",
   "execution_count": 19,
   "metadata": {
    "id": "sNfl1t_kfOF4"
   },
   "outputs": [],
   "source": [
    "import numpy as np\n",
    "import matplotlib.pyplot as plt\n",
    "\n",
    "def draw_rectangle(a, b, m, n, rectangle_color, background_color):\n",
    "    image = np.full((m, n, 3), background_color, dtype=np.uint8)\n",
    "    center_x = n // 2\n",
    "    center_y = m // 2\n",
    "    left = center_x - b // 2\n",
    "    right = center_x + b // 2 + (b % 2)\n",
    "    top = center_y - a // 2\n",
    "    bottom = center_y + a // 2 + (a % 2)\n",
    "    left = max(0, left)\n",
    "    right = min(n, right)\n",
    "    top = max(0, top)\n",
    "    bottom = min(m, bottom)\n",
    "    image[top:bottom, left:right] = rectangle_color\n",
    "    return image\n",
    "\n",
    "def draw_ellipse(a, b, m, n, ellipse_color, background_color):\n",
    "    image = np.full((m, n, 3), background_color, dtype=np.uint8)\n",
    "    center_x = n // 2\n",
    "    center_y = m // 2\n",
    "    y_coords, x_coords = np.ogrid[:m, :n]\n",
    "    x_rel = x_coords - center_x\n",
    "    y_rel = y_coords - center_y\n",
    "    ellipse_mask = (x_rel * x_rel) / (b * b) + (y_rel * y_rel) / (a * a) <= 1\n",
    "    image[ellipse_mask] = ellipse_color\n",
    "    return image\n",
    "\n",
    "WHITE = [255, 255, 255]\n",
    "BLACK = [0, 0, 0]\n",
    "RED = [255, 0, 0]\n",
    "BLUE = [0, 0, 255]\n",
    "GREEN = [0, 255, 0]\n",
    "\n",
    "def test_draw_shapes():\n",
    "    rect = draw_rectangle(20, 30, 50, 60, RED, WHITE)\n",
    "    assert rect.shape == (50, 60, 3), f\"Неверный размер прямоугольника: {rect.shape}\"\n",
    "    assert np.array_equal(rect[0, 0], WHITE), \"Фон должен быть белым\"\n",
    "    assert np.array_equal(rect[25, 30], RED), \"Центр прямоугольника должен быть красным\"\n",
    "    \n",
    "    ellipse = draw_ellipse(15, 25, 40, 50, BLUE, WHITE)\n",
    "    assert ellipse.shape == (40, 50, 3), f\"Неверный размер эллипса: {ellipse.shape}\"\n",
    "    assert np.array_equal(ellipse[0, 0], WHITE), \"Фон должен быть белым\"\n",
    "\n",
    "if __name__ == \"__main__\":\n",
    "    test_draw_shapes()"
   ]
  },
  {
   "cell_type": "markdown",
   "metadata": {
    "id": "S82c38oz244H"
   },
   "source": [
    "<h1>Задача 7. Дан некий временной ряд. Для данного ряда нужно найти его: математическое ожидание, дисперсию, СКО, найти все локальные максимумы и минимумы (локальный максимум - это точка, которая больше своих соседних точек, а локальный минимум - это точка, которая меньше своих соседей), а также вычислить для данного ряда другой ряд, получаемый методом скользящего среднего с размером окна $p$.\n",
    "<h1>Примечание: метод скользящего среднего подразумевает нахождение среднего из подмножетсва ряда размером $p$"
   ]
  },
  {
   "cell_type": "code",
   "execution_count": 23,
   "metadata": {
    "id": "Zb9mIVge5MMt"
   },
   "outputs": [],
   "source": [
    "def analyze_time_series_optimized(series, window_size):\n",
    "    if window_size > len(series) or window_size < 1:\n",
    "        raise ValueError(\"Размер окна должен быть между 1 и длиной ряда\")\n",
    "\n",
    "    series = np.array(series)\n",
    "    \n",
    "    mean = np.mean(series)\n",
    "    variance = np.var(series)\n",
    "    std_dev = np.std(series)\n",
    "    \n",
    "    greater_than_left = series[1:-1] > series[:-2]\n",
    "    greater_than_right = series[1:-1] > series[2:]\n",
    "    less_than_left = series[1:-1] < series[:-2]\n",
    "    less_than_right = series[1:-1] < series[2:]\n",
    "    \n",
    "    local_maxima = np.where(greater_than_left & greater_than_right)[0] + 1\n",
    "    local_minima = np.where(less_than_left & less_than_right)[0] + 1\n",
    "    \n",
    "    moving_avg = np.convolve(series, np.ones(window_size)/window_size, mode='valid')\n",
    "    \n",
    "    return {\n",
    "        'mean': mean,\n",
    "        'variance': variance,\n",
    "        'std_dev': std_dev,\n",
    "        'local_maxima': local_maxima,\n",
    "        'local_minima': local_minima,\n",
    "        'moving_avg': moving_avg\n",
    "    }\n",
    "\n",
    "def test_analyze_time_series():\n",
    "    series = [1, 2, 3, 2, 1, 4, 3, 5, 2]\n",
    "    result = analyze_time_series_optimized(series, 3)\n",
    "    \n",
    "    assert abs(result['mean'] - 2.555) < 0.001, f\"Неверное среднее: {result['mean']}\"\n",
    "    assert np.array_equal(result['local_maxima'], [2, 5, 7]), f\"Неверные максимумы: {result['local_maxima']}\"\n",
    "    assert np.array_equal(result['local_minima'], [4, 6]), f\"Неверные минимумы: {result['local_minima']}\"\n",
    "    assert len(result['moving_avg']) == 7, f\"Неверная длина скользящего среднего: {len(result['moving_avg'])}\"\n",
    "\n",
    "if __name__ == \"__main__\":\n",
    "    test_analyze_time_series()"
   ]
  },
  {
   "cell_type": "markdown",
   "metadata": {
    "id": "jPkylmOX5O9n"
   },
   "source": [
    "<h1> Задача 8. Дан некоторый вектор с целочисленными метками классов, напишите функцию, которая выполняет one-hot-encoding для данного вектора\n",
    "<h1> One-hot-encoding - представление, в котором на месте метки некоторого класса стоит 1, в остальных позициях стоит 0. Например для вектора [0, 2, 3, 0] one-hot-encoding выглядит как: [[1, 0, 0, 0], [0, 0, 1, 0], [0, 0, 0, 1], [1, 0, 0, 0]]\n",
    "    "
   ]
  },
  {
   "cell_type": "code",
   "execution_count": 24,
   "metadata": {
    "id": "Y-jlnZvw56lD"
   },
   "outputs": [
    {
     "ename": "AssertionError",
     "evalue": "Ожидалось:\n[[1 0 0 0]\n [0 0 1 0]\n [0 0 0 1]\n [1 0 0 0]]\nПолучено:\n[[1 0 0]\n [0 1 0]\n [0 0 1]\n [1 0 0]]",
     "output_type": "error",
     "traceback": [
      "\u001b[31m---------------------------------------------------------------------------\u001b[39m",
      "\u001b[31mAssertionError\u001b[39m                            Traceback (most recent call last)",
      "\u001b[36mCell\u001b[39m\u001b[36m \u001b[39m\u001b[32mIn[24]\u001b[39m\u001b[32m, line 32\u001b[39m\n\u001b[32m     29\u001b[39m     \u001b[38;5;28;01massert\u001b[39;00m np.array_equal(result, expected), \u001b[33mf\u001b[39m\u001b[33m\"\u001b[39m\u001b[33mОжидалось:\u001b[39m\u001b[38;5;130;01m\\n\u001b[39;00m\u001b[38;5;132;01m{\u001b[39;00mexpected\u001b[38;5;132;01m}\u001b[39;00m\u001b[38;5;130;01m\\n\u001b[39;00m\u001b[33mПолучено:\u001b[39m\u001b[38;5;130;01m\\n\u001b[39;00m\u001b[38;5;132;01m{\u001b[39;00mresult\u001b[38;5;132;01m}\u001b[39;00m\u001b[33m\"\u001b[39m\n\u001b[32m     31\u001b[39m \u001b[38;5;28;01mif\u001b[39;00m \u001b[34m__name__\u001b[39m == \u001b[33m\"\u001b[39m\u001b[33m__main__\u001b[39m\u001b[33m\"\u001b[39m:\n\u001b[32m---> \u001b[39m\u001b[32m32\u001b[39m     \u001b[43mtest_one_hot_encoding\u001b[49m\u001b[43m(\u001b[49m\u001b[43m)\u001b[49m\n",
      "\u001b[36mCell\u001b[39m\u001b[36m \u001b[39m\u001b[32mIn[24]\u001b[39m\u001b[32m, line 29\u001b[39m, in \u001b[36mtest_one_hot_encoding\u001b[39m\u001b[34m()\u001b[39m\n\u001b[32m     24\u001b[39m result = one_hot_encoding(labels)\n\u001b[32m     25\u001b[39m expected = np.array([[\u001b[32m1\u001b[39m, \u001b[32m0\u001b[39m, \u001b[32m0\u001b[39m, \u001b[32m0\u001b[39m],\n\u001b[32m     26\u001b[39m                      [\u001b[32m0\u001b[39m, \u001b[32m0\u001b[39m, \u001b[32m1\u001b[39m, \u001b[32m0\u001b[39m],\n\u001b[32m     27\u001b[39m                      [\u001b[32m0\u001b[39m, \u001b[32m0\u001b[39m, \u001b[32m0\u001b[39m, \u001b[32m1\u001b[39m],\n\u001b[32m     28\u001b[39m                      [\u001b[32m1\u001b[39m, \u001b[32m0\u001b[39m, \u001b[32m0\u001b[39m, \u001b[32m0\u001b[39m]])\n\u001b[32m---> \u001b[39m\u001b[32m29\u001b[39m \u001b[38;5;28;01massert\u001b[39;00m np.array_equal(result, expected), \u001b[33mf\u001b[39m\u001b[33m\"\u001b[39m\u001b[33mОжидалось:\u001b[39m\u001b[38;5;130;01m\\n\u001b[39;00m\u001b[38;5;132;01m{\u001b[39;00mexpected\u001b[38;5;132;01m}\u001b[39;00m\u001b[38;5;130;01m\\n\u001b[39;00m\u001b[33mПолучено:\u001b[39m\u001b[38;5;130;01m\\n\u001b[39;00m\u001b[38;5;132;01m{\u001b[39;00mresult\u001b[38;5;132;01m}\u001b[39;00m\u001b[33m\"\u001b[39m\n",
      "\u001b[31mAssertionError\u001b[39m: Ожидалось:\n[[1 0 0 0]\n [0 0 1 0]\n [0 0 0 1]\n [1 0 0 0]]\nПолучено:\n[[1 0 0]\n [0 1 0]\n [0 0 1]\n [1 0 0]]"
     ]
    }
   ],
   "source": [
    "import numpy as np\n",
    "\n",
    "def one_hot_encoding(labels):\n",
    "    if len(labels) == 0:\n",
    "        return np.array([])\n",
    "    \n",
    "    labels = np.array(labels)\n",
    "    unique_classes = np.unique(labels)\n",
    "    num_classes = len(unique_classes)\n",
    "    num_samples = len(labels)\n",
    "    \n",
    "    one_hot = np.zeros((num_samples, num_classes), dtype=int)\n",
    "    \n",
    "    class_to_index = {cls: idx for idx, cls in enumerate(unique_classes)}\n",
    "    \n",
    "    for i, label in enumerate(labels):\n",
    "        one_hot[i, class_to_index[label]] = 1\n",
    "    \n",
    "    return one_hot\n",
    "\n",
    "def test_one_hot_encoding():\n",
    "    \"\"\"Тест для one_hot_encoding\"\"\"\n",
    "    labels = [0, 2, 3, 0]\n",
    "    result = one_hot_encoding(labels)\n",
    "    expected = np.array([[1, 0, 0, 0],\n",
    "                         [0, 0, 1, 0],\n",
    "                         [0, 0, 0, 1],\n",
    "                         [1, 0, 0, 0]])\n",
    "    assert np.array_equal(result, expected), f\"Ожидалось:\\n{expected}\\nПолучено:\\n{result}\"\n",
    "\n",
    "if __name__ == \"__main__\":\n",
    "    test_one_hot_encoding()"
   ]
  },
  {
   "cell_type": "code",
   "execution_count": null,
   "metadata": {},
   "outputs": [],
   "source": []
  },
  {
   "cell_type": "code",
   "execution_count": null,
   "metadata": {},
   "outputs": [],
   "source": []
  }
 ],
 "metadata": {
  "colab": {
   "provenance": []
  },
  "kernelspec": {
   "display_name": "Python 3 (ipykernel)",
   "language": "python",
   "name": "python3"
  },
  "language_info": {
   "codemirror_mode": {
    "name": "ipython",
    "version": 3
   },
   "file_extension": ".py",
   "mimetype": "text/x-python",
   "name": "python",
   "nbconvert_exporter": "python",
   "pygments_lexer": "ipython3",
   "version": "3.12.6"
  }
 },
 "nbformat": 4,
 "nbformat_minor": 4
}
